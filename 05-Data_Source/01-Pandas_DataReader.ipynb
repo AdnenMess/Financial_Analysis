{
 "cells": [
  {
   "cell_type": "markdown",
   "source": [
    "## Pandas Datareader\n",
    "\n",
    "We should install\n",
    "```pip install pandas-datareader```\n",
    "\n",
    "***pandas_datareader.data*** and ***pandas_datareader.wb*** extract data from:\n",
    "+ Yahoo! Finance\n",
    "+ Enigma\n",
    "+ St.Louis Fed (FRED)\n",
    "+ Kenneth French's data library\n",
    "+ Word Bank\n",
    "+ OECD\n",
    "+ Eurostat\n",
    "+ Thirft Savings Plzn\n",
    "+ Oanda currency historical rate\n",
    "+ Nasdaq Trader symbol definition (remote_data_nasdaq_symbols)"
   ],
   "metadata": {
    "collapsed": false,
    "pycharm": {
     "name": "#%% md\n"
    }
   }
  },
  {
   "cell_type": "code",
   "execution_count": 26,
   "outputs": [],
   "source": [
    "import pandas_datareader as web\n",
    "import datetime\n",
    "\n",
    "start = datetime.datetime(2020,1,1)\n",
    "end = datetime.date.today()"
   ],
   "metadata": {
    "collapsed": false,
    "pycharm": {
     "name": "#%%\n"
    }
   }
  },
  {
   "cell_type": "markdown",
   "source": [
    "**Yahoo API connection**"
   ],
   "metadata": {
    "collapsed": false,
    "pycharm": {
     "name": "#%% md\n"
    }
   }
  },
  {
   "cell_type": "code",
   "execution_count": 27,
   "outputs": [],
   "source": [
    "facebook = web.DataReader('FB', 'yahoo', start, end)"
   ],
   "metadata": {
    "collapsed": false,
    "pycharm": {
     "name": "#%%\n"
    }
   }
  },
  {
   "cell_type": "code",
   "execution_count": 28,
   "outputs": [
    {
     "data": {
      "text/plain": "                  High         Low        Open       Close    Volume  \\\nDate                                                                   \n2021-07-28  377.549988  366.929993  374.559998  373.279999  29676900   \n2021-07-29  365.519989  356.739990  361.000000  358.320007  33413200   \n2021-07-30  360.730011  352.940002  354.000000  356.299988  15976200   \n2021-08-02  359.399994  350.739990  358.100006  351.950012  13180400   \n2021-08-03  353.769989  347.700012  352.730011  351.239990  12406100   \n\n             Adj Close  \nDate                    \n2021-07-28  373.279999  \n2021-07-29  358.320007  \n2021-07-30  356.299988  \n2021-08-02  351.950012  \n2021-08-03  351.239990  ",
      "text/html": "<div>\n<style scoped>\n    .dataframe tbody tr th:only-of-type {\n        vertical-align: middle;\n    }\n\n    .dataframe tbody tr th {\n        vertical-align: top;\n    }\n\n    .dataframe thead th {\n        text-align: right;\n    }\n</style>\n<table border=\"1\" class=\"dataframe\">\n  <thead>\n    <tr style=\"text-align: right;\">\n      <th></th>\n      <th>High</th>\n      <th>Low</th>\n      <th>Open</th>\n      <th>Close</th>\n      <th>Volume</th>\n      <th>Adj Close</th>\n    </tr>\n    <tr>\n      <th>Date</th>\n      <th></th>\n      <th></th>\n      <th></th>\n      <th></th>\n      <th></th>\n      <th></th>\n    </tr>\n  </thead>\n  <tbody>\n    <tr>\n      <th>2021-07-28</th>\n      <td>377.549988</td>\n      <td>366.929993</td>\n      <td>374.559998</td>\n      <td>373.279999</td>\n      <td>29676900</td>\n      <td>373.279999</td>\n    </tr>\n    <tr>\n      <th>2021-07-29</th>\n      <td>365.519989</td>\n      <td>356.739990</td>\n      <td>361.000000</td>\n      <td>358.320007</td>\n      <td>33413200</td>\n      <td>358.320007</td>\n    </tr>\n    <tr>\n      <th>2021-07-30</th>\n      <td>360.730011</td>\n      <td>352.940002</td>\n      <td>354.000000</td>\n      <td>356.299988</td>\n      <td>15976200</td>\n      <td>356.299988</td>\n    </tr>\n    <tr>\n      <th>2021-08-02</th>\n      <td>359.399994</td>\n      <td>350.739990</td>\n      <td>358.100006</td>\n      <td>351.950012</td>\n      <td>13180400</td>\n      <td>351.950012</td>\n    </tr>\n    <tr>\n      <th>2021-08-03</th>\n      <td>353.769989</td>\n      <td>347.700012</td>\n      <td>352.730011</td>\n      <td>351.239990</td>\n      <td>12406100</td>\n      <td>351.239990</td>\n    </tr>\n  </tbody>\n</table>\n</div>"
     },
     "execution_count": 28,
     "metadata": {},
     "output_type": "execute_result"
    }
   ],
   "source": [
    "facebook.head()"
   ],
   "metadata": {
    "collapsed": false,
    "pycharm": {
     "name": "#%%\n"
    }
   }
  },
  {
   "cell_type": "markdown",
   "source": [
    "**FRED API connection**"
   ],
   "metadata": {
    "collapsed": false,
    "pycharm": {
     "name": "#%% md\n"
    }
   }
  },
  {
   "cell_type": "code",
   "execution_count": 29,
   "outputs": [],
   "source": [
    "gdp = web.DataReader('GDP', 'fred', start, end)"
   ],
   "metadata": {
    "collapsed": false,
    "pycharm": {
     "name": "#%%\n"
    }
   }
  },
  {
   "cell_type": "code",
   "execution_count": 30,
   "outputs": [
    {
     "data": {
      "text/plain": "                  GDP\nDATE                 \n2020-01-01  21481.367\n2020-04-01  19477.444\n2020-07-01  21138.574\n2020-10-01  21477.597\n2021-01-01  22038.226",
      "text/html": "<div>\n<style scoped>\n    .dataframe tbody tr th:only-of-type {\n        vertical-align: middle;\n    }\n\n    .dataframe tbody tr th {\n        vertical-align: top;\n    }\n\n    .dataframe thead th {\n        text-align: right;\n    }\n</style>\n<table border=\"1\" class=\"dataframe\">\n  <thead>\n    <tr style=\"text-align: right;\">\n      <th></th>\n      <th>GDP</th>\n    </tr>\n    <tr>\n      <th>DATE</th>\n      <th></th>\n    </tr>\n  </thead>\n  <tbody>\n    <tr>\n      <th>2020-01-01</th>\n      <td>21481.367</td>\n    </tr>\n    <tr>\n      <th>2020-04-01</th>\n      <td>19477.444</td>\n    </tr>\n    <tr>\n      <th>2020-07-01</th>\n      <td>21138.574</td>\n    </tr>\n    <tr>\n      <th>2020-10-01</th>\n      <td>21477.597</td>\n    </tr>\n    <tr>\n      <th>2021-01-01</th>\n      <td>22038.226</td>\n    </tr>\n  </tbody>\n</table>\n</div>"
     },
     "execution_count": 30,
     "metadata": {},
     "output_type": "execute_result"
    }
   ],
   "source": [
    "gdp.head()"
   ],
   "metadata": {
    "collapsed": false,
    "pycharm": {
     "name": "#%%\n"
    }
   }
  }
 ],
 "metadata": {
  "kernelspec": {
   "display_name": "Python 3",
   "language": "python",
   "name": "python3"
  },
  "language_info": {
   "codemirror_mode": {
    "name": "ipython",
    "version": 2
   },
   "file_extension": ".py",
   "mimetype": "text/x-python",
   "name": "python",
   "nbconvert_exporter": "python",
   "pygments_lexer": "ipython2",
   "version": "2.7.6"
  }
 },
 "nbformat": 4,
 "nbformat_minor": 0
}