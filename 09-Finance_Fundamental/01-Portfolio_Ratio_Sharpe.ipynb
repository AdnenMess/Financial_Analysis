{
 "cells": [
  {
   "cell_type": "code",
   "execution_count": 12,
   "metadata": {
    "collapsed": true,
    "pycharm": {
     "name": "#%%\n"
    }
   },
   "outputs": [],
   "source": [
    "import pandas as pd\n",
    "import quandl"
   ]
  },
  {
   "cell_type": "code",
   "execution_count": 13,
   "outputs": [],
   "source": [
    "start = pd.to_datetime('2012-01-01')\n",
    "end = pd.to_datetime('2017-01-01')"
   ],
   "metadata": {
    "collapsed": false,
    "pycharm": {
     "name": "#%%\n"
    }
   }
  },
  {
   "cell_type": "code",
   "execution_count": 14,
   "outputs": [],
   "source": [
    "quandl.ApiConfig.api_key = \"GpVgeVazag5mR7JaB3Gn\""
   ],
   "metadata": {
    "collapsed": false,
    "pycharm": {
     "name": "#%%\n"
    }
   }
  },
  {
   "cell_type": "code",
   "execution_count": 15,
   "outputs": [],
   "source": [
    "aapl = quandl.get('WIKI/AAPL.11',start_date=start,end_date=end)\n",
    "cisco = quandl.get('WIKI/CSCO.11',start_date=start,end_date=end)\n",
    "ibm = quandl.get('WIKI/IBM.11',start_date=start,end_date=end)\n",
    "amzn = quandl.get('WIKI/AMZN.11',start_date=start,end_date=end)"
   ],
   "metadata": {
    "collapsed": false,
    "pycharm": {
     "name": "#%%\n"
    }
   }
  },
  {
   "cell_type": "code",
   "execution_count": 16,
   "outputs": [],
   "source": [
    "aapl.to_csv('AAPL_CLOSE')\n",
    "cisco.to_csv('CISCO_CLOSE')\n",
    "ibm.to_csv('IBM_CLOSE')\n",
    "amzn.to_csv('AMZN_CLOSE')"
   ],
   "metadata": {
    "collapsed": false,
    "pycharm": {
     "name": "#%%\n"
    }
   }
  },
  {
   "cell_type": "markdown",
   "source": [
    "**Normalize Prices**"
   ],
   "metadata": {
    "collapsed": false,
    "pycharm": {
     "name": "#%% md\n"
    }
   }
  },
  {
   "cell_type": "code",
   "execution_count": 17,
   "outputs": [
    {
     "data": {
      "text/plain": "52.848786580038"
     },
     "execution_count": 17,
     "metadata": {},
     "output_type": "execute_result"
    }
   ],
   "source": [
    "aapl.iloc[0]['Adj. Close']"
   ],
   "metadata": {
    "collapsed": false,
    "pycharm": {
     "name": "#%%\n"
    }
   }
  },
  {
   "cell_type": "code",
   "execution_count": 18,
   "outputs": [],
   "source": [
    "for stock_df in (aapl,cisco,ibm,amzn):\n",
    "    stock_df['Normed Return'] = stock_df['Adj. Close']/stock_df.iloc[0]['Adj. Close']"
   ],
   "metadata": {
    "collapsed": false,
    "pycharm": {
     "name": "#%%\n"
    }
   }
  },
  {
   "cell_type": "code",
   "execution_count": 19,
   "outputs": [
    {
     "data": {
      "text/plain": "            Adj. Close  Normed Return\nDate                                 \n2012-01-03   52.848787       1.000000\n2012-01-04   53.132802       1.005374\n2012-01-05   53.722681       1.016536\n2012-01-06   54.284287       1.027162\n2012-01-09   54.198183       1.025533",
      "text/html": "<div>\n<style scoped>\n    .dataframe tbody tr th:only-of-type {\n        vertical-align: middle;\n    }\n\n    .dataframe tbody tr th {\n        vertical-align: top;\n    }\n\n    .dataframe thead th {\n        text-align: right;\n    }\n</style>\n<table border=\"1\" class=\"dataframe\">\n  <thead>\n    <tr style=\"text-align: right;\">\n      <th></th>\n      <th>Adj. Close</th>\n      <th>Normed Return</th>\n    </tr>\n    <tr>\n      <th>Date</th>\n      <th></th>\n      <th></th>\n    </tr>\n  </thead>\n  <tbody>\n    <tr>\n      <th>2012-01-03</th>\n      <td>52.848787</td>\n      <td>1.000000</td>\n    </tr>\n    <tr>\n      <th>2012-01-04</th>\n      <td>53.132802</td>\n      <td>1.005374</td>\n    </tr>\n    <tr>\n      <th>2012-01-05</th>\n      <td>53.722681</td>\n      <td>1.016536</td>\n    </tr>\n    <tr>\n      <th>2012-01-06</th>\n      <td>54.284287</td>\n      <td>1.027162</td>\n    </tr>\n    <tr>\n      <th>2012-01-09</th>\n      <td>54.198183</td>\n      <td>1.025533</td>\n    </tr>\n  </tbody>\n</table>\n</div>"
     },
     "execution_count": 19,
     "metadata": {},
     "output_type": "execute_result"
    }
   ],
   "source": [
    "aapl.head()"
   ],
   "metadata": {
    "collapsed": false,
    "pycharm": {
     "name": "#%%\n"
    }
   }
  },
  {
   "cell_type": "code",
   "execution_count": 20,
   "outputs": [
    {
     "data": {
      "text/plain": "            Adj. Close  Normed Return\nDate                                 \n2016-12-23  115.080808       2.177549\n2016-12-27  115.811668       2.191378\n2016-12-28  115.317843       2.182034\n2016-12-29  115.288214       2.181473\n2016-12-30  114.389454       2.164467",
      "text/html": "<div>\n<style scoped>\n    .dataframe tbody tr th:only-of-type {\n        vertical-align: middle;\n    }\n\n    .dataframe tbody tr th {\n        vertical-align: top;\n    }\n\n    .dataframe thead th {\n        text-align: right;\n    }\n</style>\n<table border=\"1\" class=\"dataframe\">\n  <thead>\n    <tr style=\"text-align: right;\">\n      <th></th>\n      <th>Adj. Close</th>\n      <th>Normed Return</th>\n    </tr>\n    <tr>\n      <th>Date</th>\n      <th></th>\n      <th></th>\n    </tr>\n  </thead>\n  <tbody>\n    <tr>\n      <th>2016-12-23</th>\n      <td>115.080808</td>\n      <td>2.177549</td>\n    </tr>\n    <tr>\n      <th>2016-12-27</th>\n      <td>115.811668</td>\n      <td>2.191378</td>\n    </tr>\n    <tr>\n      <th>2016-12-28</th>\n      <td>115.317843</td>\n      <td>2.182034</td>\n    </tr>\n    <tr>\n      <th>2016-12-29</th>\n      <td>115.288214</td>\n      <td>2.181473</td>\n    </tr>\n    <tr>\n      <th>2016-12-30</th>\n      <td>114.389454</td>\n      <td>2.164467</td>\n    </tr>\n  </tbody>\n</table>\n</div>"
     },
     "execution_count": 20,
     "metadata": {},
     "output_type": "execute_result"
    }
   ],
   "source": [
    "aapl.tail()"
   ],
   "metadata": {
    "collapsed": false,
    "pycharm": {
     "name": "#%%\n"
    }
   }
  },
  {
   "cell_type": "markdown",
   "source": [
    "**Distribution**"
   ],
   "metadata": {
    "collapsed": false,
    "pycharm": {
     "name": "#%% md\n"
    }
   }
  },
  {
   "cell_type": "code",
   "execution_count": 21,
   "outputs": [],
   "source": [
    "for stock_df,allo in zip([aapl,cisco,amzn,ibm],[.3,.2,.4,.1]):\n",
    "    stock_df['Allocation'] = stock_df['Normed Return']*allo"
   ],
   "metadata": {
    "collapsed": false,
    "pycharm": {
     "name": "#%%\n"
    }
   }
  },
  {
   "cell_type": "code",
   "execution_count": 22,
   "outputs": [
    {
     "data": {
      "text/plain": "            Adj. Close  Normed Return  Allocation\nDate                                             \n2012-01-03   52.848787       1.000000    0.300000\n2012-01-04   53.132802       1.005374    0.301612\n2012-01-05   53.722681       1.016536    0.304961\n2012-01-06   54.284287       1.027162    0.308149\n2012-01-09   54.198183       1.025533    0.307660",
      "text/html": "<div>\n<style scoped>\n    .dataframe tbody tr th:only-of-type {\n        vertical-align: middle;\n    }\n\n    .dataframe tbody tr th {\n        vertical-align: top;\n    }\n\n    .dataframe thead th {\n        text-align: right;\n    }\n</style>\n<table border=\"1\" class=\"dataframe\">\n  <thead>\n    <tr style=\"text-align: right;\">\n      <th></th>\n      <th>Adj. Close</th>\n      <th>Normed Return</th>\n      <th>Allocation</th>\n    </tr>\n    <tr>\n      <th>Date</th>\n      <th></th>\n      <th></th>\n      <th></th>\n    </tr>\n  </thead>\n  <tbody>\n    <tr>\n      <th>2012-01-03</th>\n      <td>52.848787</td>\n      <td>1.000000</td>\n      <td>0.300000</td>\n    </tr>\n    <tr>\n      <th>2012-01-04</th>\n      <td>53.132802</td>\n      <td>1.005374</td>\n      <td>0.301612</td>\n    </tr>\n    <tr>\n      <th>2012-01-05</th>\n      <td>53.722681</td>\n      <td>1.016536</td>\n      <td>0.304961</td>\n    </tr>\n    <tr>\n      <th>2012-01-06</th>\n      <td>54.284287</td>\n      <td>1.027162</td>\n      <td>0.308149</td>\n    </tr>\n    <tr>\n      <th>2012-01-09</th>\n      <td>54.198183</td>\n      <td>1.025533</td>\n      <td>0.307660</td>\n    </tr>\n  </tbody>\n</table>\n</div>"
     },
     "execution_count": 22,
     "metadata": {},
     "output_type": "execute_result"
    }
   ],
   "source": [
    "aapl.head()"
   ],
   "metadata": {
    "collapsed": false,
    "pycharm": {
     "name": "#%%\n"
    }
   }
  },
  {
   "cell_type": "markdown",
   "source": [
    "**Investissement**"
   ],
   "metadata": {
    "collapsed": false,
    "pycharm": {
     "name": "#%% md\n"
    }
   }
  },
  {
   "cell_type": "code",
   "execution_count": 23,
   "outputs": [],
   "source": [
    "for stock_df in [aapl,cisco,ibm,amzn]:\n",
    "    stock_df['Position Values'] = stock_df['Allocation']*1000000"
   ],
   "metadata": {
    "collapsed": false,
    "pycharm": {
     "name": "#%%\n"
    }
   }
  },
  {
   "cell_type": "markdown",
   "source": [
    "**Total Portfolio Value**"
   ],
   "metadata": {
    "collapsed": false,
    "pycharm": {
     "name": "#%% md\n"
    }
   }
  },
  {
   "cell_type": "code",
   "execution_count": 24,
   "outputs": [],
   "source": [
    "portfolio_val = pd.concat([aapl['Position Values'],cisco['Position Values'],ibm['Position Values'],amzn['Position Values']],axis=1)"
   ],
   "metadata": {
    "collapsed": false,
    "pycharm": {
     "name": "#%%\n"
    }
   }
  },
  {
   "cell_type": "code",
   "execution_count": 25,
   "outputs": [
    {
     "data": {
      "text/plain": "            Position Values  Position Values  Position Values  Position Values\nDate                                                                          \n2012-01-03    300000.000000    200000.000000    100000.000000    400000.000000\n2012-01-04    301612.236461    203864.734300     99592.055824    396603.921131\n2012-01-05    304960.727573    203113.258186     99119.699410    396827.347372\n2012-01-06    308148.724558    202361.782072     97981.749866    407998.659443\n2012-01-09    307659.946988    203650.026838     97471.819646    398949.896665",
      "text/html": "<div>\n<style scoped>\n    .dataframe tbody tr th:only-of-type {\n        vertical-align: middle;\n    }\n\n    .dataframe tbody tr th {\n        vertical-align: top;\n    }\n\n    .dataframe thead th {\n        text-align: right;\n    }\n</style>\n<table border=\"1\" class=\"dataframe\">\n  <thead>\n    <tr style=\"text-align: right;\">\n      <th></th>\n      <th>Position Values</th>\n      <th>Position Values</th>\n      <th>Position Values</th>\n      <th>Position Values</th>\n    </tr>\n    <tr>\n      <th>Date</th>\n      <th></th>\n      <th></th>\n      <th></th>\n      <th></th>\n    </tr>\n  </thead>\n  <tbody>\n    <tr>\n      <th>2012-01-03</th>\n      <td>300000.000000</td>\n      <td>200000.000000</td>\n      <td>100000.000000</td>\n      <td>400000.000000</td>\n    </tr>\n    <tr>\n      <th>2012-01-04</th>\n      <td>301612.236461</td>\n      <td>203864.734300</td>\n      <td>99592.055824</td>\n      <td>396603.921131</td>\n    </tr>\n    <tr>\n      <th>2012-01-05</th>\n      <td>304960.727573</td>\n      <td>203113.258186</td>\n      <td>99119.699410</td>\n      <td>396827.347372</td>\n    </tr>\n    <tr>\n      <th>2012-01-06</th>\n      <td>308148.724558</td>\n      <td>202361.782072</td>\n      <td>97981.749866</td>\n      <td>407998.659443</td>\n    </tr>\n    <tr>\n      <th>2012-01-09</th>\n      <td>307659.946988</td>\n      <td>203650.026838</td>\n      <td>97471.819646</td>\n      <td>398949.896665</td>\n    </tr>\n  </tbody>\n</table>\n</div>"
     },
     "execution_count": 25,
     "metadata": {},
     "output_type": "execute_result"
    }
   ],
   "source": [
    "portfolio_val.head()"
   ],
   "metadata": {
    "collapsed": false,
    "pycharm": {
     "name": "#%%\n"
    }
   }
  },
  {
   "cell_type": "code",
   "execution_count": 26,
   "outputs": [],
   "source": [
    "portfolio_val.columns = ['AAPL Pos','CISCO Pos','IBM Pos','AMZN Pos']"
   ],
   "metadata": {
    "collapsed": false,
    "pycharm": {
     "name": "#%%\n"
    }
   }
  },
  {
   "cell_type": "code",
   "execution_count": 27,
   "outputs": [
    {
     "data": {
      "text/plain": "                 AAPL Pos      CISCO Pos        IBM Pos       AMZN Pos\nDate                                                                  \n2012-01-03  300000.000000  200000.000000  100000.000000  400000.000000\n2012-01-04  301612.236461  203864.734300   99592.055824  396603.921131\n2012-01-05  304960.727573  203113.258186   99119.699410  396827.347372\n2012-01-06  308148.724558  202361.782072   97981.749866  407998.659443\n2012-01-09  307659.946988  203650.026838   97471.819646  398949.896665",
      "text/html": "<div>\n<style scoped>\n    .dataframe tbody tr th:only-of-type {\n        vertical-align: middle;\n    }\n\n    .dataframe tbody tr th {\n        vertical-align: top;\n    }\n\n    .dataframe thead th {\n        text-align: right;\n    }\n</style>\n<table border=\"1\" class=\"dataframe\">\n  <thead>\n    <tr style=\"text-align: right;\">\n      <th></th>\n      <th>AAPL Pos</th>\n      <th>CISCO Pos</th>\n      <th>IBM Pos</th>\n      <th>AMZN Pos</th>\n    </tr>\n    <tr>\n      <th>Date</th>\n      <th></th>\n      <th></th>\n      <th></th>\n      <th></th>\n    </tr>\n  </thead>\n  <tbody>\n    <tr>\n      <th>2012-01-03</th>\n      <td>300000.000000</td>\n      <td>200000.000000</td>\n      <td>100000.000000</td>\n      <td>400000.000000</td>\n    </tr>\n    <tr>\n      <th>2012-01-04</th>\n      <td>301612.236461</td>\n      <td>203864.734300</td>\n      <td>99592.055824</td>\n      <td>396603.921131</td>\n    </tr>\n    <tr>\n      <th>2012-01-05</th>\n      <td>304960.727573</td>\n      <td>203113.258186</td>\n      <td>99119.699410</td>\n      <td>396827.347372</td>\n    </tr>\n    <tr>\n      <th>2012-01-06</th>\n      <td>308148.724558</td>\n      <td>202361.782072</td>\n      <td>97981.749866</td>\n      <td>407998.659443</td>\n    </tr>\n    <tr>\n      <th>2012-01-09</th>\n      <td>307659.946988</td>\n      <td>203650.026838</td>\n      <td>97471.819646</td>\n      <td>398949.896665</td>\n    </tr>\n  </tbody>\n</table>\n</div>"
     },
     "execution_count": 27,
     "metadata": {},
     "output_type": "execute_result"
    }
   ],
   "source": [
    "portfolio_val.head()"
   ],
   "metadata": {
    "collapsed": false,
    "pycharm": {
     "name": "#%%\n"
    }
   }
  },
  {
   "cell_type": "code",
   "execution_count": 28,
   "outputs": [],
   "source": [
    "portfolio_val['Total Pos'] = portfolio_val.sum(axis=1)"
   ],
   "metadata": {
    "collapsed": false,
    "pycharm": {
     "name": "#%%\n"
    }
   }
  },
  {
   "cell_type": "code",
   "execution_count": 29,
   "outputs": [
    {
     "data": {
      "text/plain": "                 AAPL Pos      CISCO Pos        IBM Pos       AMZN Pos  \\\nDate                                                                     \n2012-01-03  300000.000000  200000.000000  100000.000000  400000.000000   \n2012-01-04  301612.236461  203864.734300   99592.055824  396603.921131   \n2012-01-05  304960.727573  203113.258186   99119.699410  396827.347372   \n2012-01-06  308148.724558  202361.782072   97981.749866  407998.659443   \n2012-01-09  307659.946988  203650.026838   97471.819646  398949.896665   \n\n               Total Pos  \nDate                      \n2012-01-03  1.000000e+06  \n2012-01-04  1.001673e+06  \n2012-01-05  1.004021e+06  \n2012-01-06  1.016491e+06  \n2012-01-09  1.007732e+06  ",
      "text/html": "<div>\n<style scoped>\n    .dataframe tbody tr th:only-of-type {\n        vertical-align: middle;\n    }\n\n    .dataframe tbody tr th {\n        vertical-align: top;\n    }\n\n    .dataframe thead th {\n        text-align: right;\n    }\n</style>\n<table border=\"1\" class=\"dataframe\">\n  <thead>\n    <tr style=\"text-align: right;\">\n      <th></th>\n      <th>AAPL Pos</th>\n      <th>CISCO Pos</th>\n      <th>IBM Pos</th>\n      <th>AMZN Pos</th>\n      <th>Total Pos</th>\n    </tr>\n    <tr>\n      <th>Date</th>\n      <th></th>\n      <th></th>\n      <th></th>\n      <th></th>\n      <th></th>\n    </tr>\n  </thead>\n  <tbody>\n    <tr>\n      <th>2012-01-03</th>\n      <td>300000.000000</td>\n      <td>200000.000000</td>\n      <td>100000.000000</td>\n      <td>400000.000000</td>\n      <td>1.000000e+06</td>\n    </tr>\n    <tr>\n      <th>2012-01-04</th>\n      <td>301612.236461</td>\n      <td>203864.734300</td>\n      <td>99592.055824</td>\n      <td>396603.921131</td>\n      <td>1.001673e+06</td>\n    </tr>\n    <tr>\n      <th>2012-01-05</th>\n      <td>304960.727573</td>\n      <td>203113.258186</td>\n      <td>99119.699410</td>\n      <td>396827.347372</td>\n      <td>1.004021e+06</td>\n    </tr>\n    <tr>\n      <th>2012-01-06</th>\n      <td>308148.724558</td>\n      <td>202361.782072</td>\n      <td>97981.749866</td>\n      <td>407998.659443</td>\n      <td>1.016491e+06</td>\n    </tr>\n    <tr>\n      <th>2012-01-09</th>\n      <td>307659.946988</td>\n      <td>203650.026838</td>\n      <td>97471.819646</td>\n      <td>398949.896665</td>\n      <td>1.007732e+06</td>\n    </tr>\n  </tbody>\n</table>\n</div>"
     },
     "execution_count": 29,
     "metadata": {},
     "output_type": "execute_result"
    }
   ],
   "source": [
    "portfolio_val.head()"
   ],
   "metadata": {
    "collapsed": false,
    "pycharm": {
     "name": "#%%\n"
    }
   }
  },
  {
   "cell_type": "code",
   "execution_count": 30,
   "outputs": [],
   "source": [
    "import matplotlib.pyplot as plt"
   ],
   "metadata": {
    "collapsed": false,
    "pycharm": {
     "name": "#%%\n"
    }
   }
  },
  {
   "cell_type": "code",
   "execution_count": 31,
   "outputs": [
    {
     "data": {
      "text/plain": "<Figure size 720x576 with 1 Axes>",
      "image/png": "[encoded data removed]"
     },
     "metadata": {
      "needs_background": "light"
     },
     "output_type": "display_data"
    }
   ],
   "source": [
    "portfolio_val['Total Pos'].plot(figsize=(10,8),title='Total Portfolio Value')\n",
    "plt.show();"
   ],
   "metadata": {
    "collapsed": false,
    "pycharm": {
     "name": "#%%\n"
    }
   }
  },
  {
   "cell_type": "code",
   "execution_count": 32,
   "outputs": [
    {
     "data": {
      "text/plain": "<Figure size 432x288 with 1 Axes>",
      "image/png": "[encoded data removed]"
     },
     "metadata": {
      "needs_background": "light"
     },
     "output_type": "display_data"
    }
   ],
   "source": [
    "portfolio_val.drop('Total Pos',axis=1).plot(kind='line');"
   ],
   "metadata": {
    "collapsed": false,
    "pycharm": {
     "name": "#%%\n"
    }
   }
  },
  {
   "cell_type": "code",
   "execution_count": 33,
   "outputs": [
    {
     "data": {
      "text/plain": "                 AAPL Pos      CISCO Pos        IBM Pos      AMZN Pos  \\\nDate                                                                    \n2016-12-23  653264.617079  377469.015679  101839.988903  1.699358e+06   \n2016-12-27  657413.396830  379323.596496  102102.667778  1.723510e+06   \n2016-12-28  654610.167268  376108.989746  101522.330729  1.725141e+06   \n2016-12-29  654441.973495  376603.544631  101772.791982  1.709546e+06   \n2016-12-30  649340.095692  373636.215323  101400.154508  1.675406e+06   \n\n               Total Pos  \nDate                      \n2016-12-23  2.831931e+06  \n2016-12-27  2.862350e+06  \n2016-12-28  2.857383e+06  \n2016-12-29  2.842364e+06  \n2016-12-30  2.799783e+06  ",
      "text/html": "<div>\n<style scoped>\n    .dataframe tbody tr th:only-of-type {\n        vertical-align: middle;\n    }\n\n    .dataframe tbody tr th {\n        vertical-align: top;\n    }\n\n    .dataframe thead th {\n        text-align: right;\n    }\n</style>\n<table border=\"1\" class=\"dataframe\">\n  <thead>\n    <tr style=\"text-align: right;\">\n      <th></th>\n      <th>AAPL Pos</th>\n      <th>CISCO Pos</th>\n      <th>IBM Pos</th>\n      <th>AMZN Pos</th>\n      <th>Total Pos</th>\n    </tr>\n    <tr>\n      <th>Date</th>\n      <th></th>\n      <th></th>\n      <th></th>\n      <th></th>\n      <th></th>\n    </tr>\n  </thead>\n  <tbody>\n    <tr>\n      <th>2016-12-23</th>\n      <td>653264.617079</td>\n      <td>377469.015679</td>\n      <td>101839.988903</td>\n      <td>1.699358e+06</td>\n      <td>2.831931e+06</td>\n    </tr>\n    <tr>\n      <th>2016-12-27</th>\n      <td>657413.396830</td>\n      <td>379323.596496</td>\n      <td>102102.667778</td>\n      <td>1.723510e+06</td>\n      <td>2.862350e+06</td>\n    </tr>\n    <tr>\n      <th>2016-12-28</th>\n      <td>654610.167268</td>\n      <td>376108.989746</td>\n      <td>101522.330729</td>\n      <td>1.725141e+06</td>\n      <td>2.857383e+06</td>\n    </tr>\n    <tr>\n      <th>2016-12-29</th>\n      <td>654441.973495</td>\n      <td>376603.544631</td>\n      <td>101772.791982</td>\n      <td>1.709546e+06</td>\n      <td>2.842364e+06</td>\n    </tr>\n    <tr>\n      <th>2016-12-30</th>\n      <td>649340.095692</td>\n      <td>373636.215323</td>\n      <td>101400.154508</td>\n      <td>1.675406e+06</td>\n      <td>2.799783e+06</td>\n    </tr>\n  </tbody>\n</table>\n</div>"
     },
     "execution_count": 33,
     "metadata": {},
     "output_type": "execute_result"
    }
   ],
   "source": [
    "portfolio_val.tail()"
   ],
   "metadata": {
    "collapsed": false,
    "pycharm": {
     "name": "#%%\n"
    }
   }
  },
  {
   "cell_type": "markdown",
   "source": [
    "### Portfolio Statistics\n",
    "\n",
    "**Daily Returns**"
   ],
   "metadata": {
    "collapsed": false,
    "pycharm": {
     "name": "#%% md\n"
    }
   }
  },
  {
   "cell_type": "code",
   "execution_count": 34,
   "outputs": [],
   "source": [
    "portfolio_val['Daily Return'] = portfolio_val['Total Pos'].pct_change(1)"
   ],
   "metadata": {
    "collapsed": false,
    "pycharm": {
     "name": "#%%\n"
    }
   }
  },
  {
   "cell_type": "markdown",
   "source": [
    "**Cumulative Return**"
   ],
   "metadata": {
    "collapsed": false,
    "pycharm": {
     "name": "#%% md\n"
    }
   }
  },
  {
   "cell_type": "code",
   "execution_count": 35,
   "outputs": [
    {
     "name": "stdout",
     "output_type": "stream",
     "text": [
      "Notre rendement était de 179.97828220000912 %!\n"
     ]
    }
   ],
   "source": [
    "cum_ret = 100 * (portfolio_val['Total Pos'][-1]/portfolio_val['Total Pos'][0] -1 )\n",
    "print('Notre rendement était de {} %!'.format(cum_ret))"
   ],
   "metadata": {
    "collapsed": false,
    "pycharm": {
     "name": "#%%\n"
    }
   }
  },
  {
   "cell_type": "markdown",
   "source": [
    "**Average Daily Return**"
   ],
   "metadata": {
    "collapsed": false,
    "pycharm": {
     "name": "#%% md\n"
    }
   }
  },
  {
   "cell_type": "code",
   "execution_count": 36,
   "outputs": [
    {
     "data": {
      "text/plain": "0.0009023579071769599"
     },
     "execution_count": 36,
     "metadata": {},
     "output_type": "execute_result"
    }
   ],
   "source": [
    "portfolio_val['Daily Return'].mean()"
   ],
   "metadata": {
    "collapsed": false,
    "pycharm": {
     "name": "#%%\n"
    }
   }
  },
  {
   "cell_type": "markdown",
   "source": [
    "**Standard Deviation of Daily Return**"
   ],
   "metadata": {
    "collapsed": false,
    "pycharm": {
     "name": "#%% md\n"
    }
   }
  },
  {
   "cell_type": "code",
   "execution_count": 37,
   "outputs": [
    {
     "data": {
      "text/plain": "0.012896893878458078"
     },
     "execution_count": 37,
     "metadata": {},
     "output_type": "execute_result"
    }
   ],
   "source": [
    "portfolio_val['Daily Return'].std()"
   ],
   "metadata": {
    "collapsed": false,
    "pycharm": {
     "name": "#%%\n"
    }
   }
  },
  {
   "cell_type": "code",
   "execution_count": 38,
   "outputs": [
    {
     "data": {
      "text/plain": "<Figure size 432x288 with 1 Axes>",
      "image/png": "[encoded data removed]"
     },
     "metadata": {
      "needs_background": "light"
     },
     "output_type": "display_data"
    }
   ],
   "source": [
    "portfolio_val['Daily Return'].plot(kind='kde');"
   ],
   "metadata": {
    "collapsed": false,
    "pycharm": {
     "name": "#%%\n"
    }
   }
  },
  {
   "cell_type": "markdown",
   "source": [
    "## Sharpe Ratio"
   ],
   "metadata": {
    "collapsed": false,
    "pycharm": {
     "name": "#%% md\n"
    }
   }
  },
  {
   "cell_type": "code",
   "execution_count": 39,
   "outputs": [
    {
     "data": {
      "text/plain": "0.0699670723571809"
     },
     "execution_count": 39,
     "metadata": {},
     "output_type": "execute_result"
    }
   ],
   "source": [
    "SR = portfolio_val['Daily Return'].mean()/portfolio_val['Daily Return'].std()\n",
    "SR"
   ],
   "metadata": {
    "collapsed": false,
    "pycharm": {
     "name": "#%%\n"
    }
   }
  },
  {
   "cell_type": "code",
   "execution_count": 41,
   "outputs": [
    {
     "data": {
      "text/plain": "1.1106928405221748"
     },
     "execution_count": 41,
     "metadata": {},
     "output_type": "execute_result"
    }
   ],
   "source": [
    "ASR = (252**0.5)*SR\n",
    "ASR"
   ],
   "metadata": {
    "collapsed": false,
    "pycharm": {
     "name": "#%%\n"
    }
   }
  },
  {
   "cell_type": "code",
   "execution_count": 42,
   "outputs": [
    {
     "data": {
      "text/plain": "0.012896893878458078"
     },
     "execution_count": 42,
     "metadata": {},
     "output_type": "execute_result"
    }
   ],
   "source": [
    "portfolio_val['Daily Return'].std()"
   ],
   "metadata": {
    "collapsed": false,
    "pycharm": {
     "name": "#%%\n"
    }
   }
  },
  {
   "cell_type": "code",
   "execution_count": 43,
   "outputs": [
    {
     "data": {
      "text/plain": "0.0009023579071769599"
     },
     "execution_count": 43,
     "metadata": {},
     "output_type": "execute_result"
    }
   ],
   "source": [
    "portfolio_val['Daily Return'].mean()"
   ],
   "metadata": {
    "collapsed": false,
    "pycharm": {
     "name": "#%%\n"
    }
   }
  },
  {
   "cell_type": "code",
   "execution_count": 44,
   "outputs": [
    {
     "data": {
      "text/plain": "<Figure size 432x288 with 1 Axes>",
      "image/png": "[encoded data removed]"
     },
     "metadata": {
      "needs_background": "light"
     },
     "output_type": "display_data"
    }
   ],
   "source": [
    "portfolio_val['Daily Return'].plot(kind='kde');"
   ],
   "metadata": {
    "collapsed": false,
    "pycharm": {
     "name": "#%%\n"
    }
   }
  },
  {
   "cell_type": "code",
   "execution_count": 45,
   "outputs": [
    {
     "data": {
      "text/plain": "<Figure size 432x288 with 1 Axes>",
      "image/png": "[encoded data removed]"
     },
     "metadata": {
      "needs_background": "light"
     },
     "output_type": "display_data"
    }
   ],
   "source": [
    "aapl['Adj. Close'].pct_change(1).plot(kind='kde')\n",
    "ibm['Adj. Close'].pct_change(1).plot(kind='kde')\n",
    "amzn['Adj. Close'].pct_change(1).plot(kind='kde')\n",
    "cisco['Adj. Close'].pct_change(1).plot(kind='kde');"
   ],
   "metadata": {
    "collapsed": false,
    "pycharm": {
     "name": "#%%\n"
    }
   }
  }
 ],
 "metadata": {
  "kernelspec": {
   "display_name": "Python 3",
   "language": "python",
   "name": "python3"
  },
  "language_info": {
   "codemirror_mode": {
    "name": "ipython",
    "version": 2
   },
   "file_extension": ".py",
   "mimetype": "text/x-python",
   "name": "python",
   "nbconvert_exporter": "python",
   "pygments_lexer": "ipython2",
   "version": "2.7.6"
  }
 },
 "nbformat": 4,
 "nbformat_minor": 0
}