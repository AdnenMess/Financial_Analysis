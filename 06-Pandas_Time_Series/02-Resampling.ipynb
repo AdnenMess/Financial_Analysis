{
 "cells": [
  {
   "cell_type": "markdown",
   "source": [
    "## Resampling"
   ],
   "metadata": {
    "collapsed": false,
    "pycharm": {
     "name": "#%% md\n"
    }
   }
  },
  {
   "cell_type": "code",
   "execution_count": 1,
   "outputs": [],
   "source": [
    "import pandas as pd\n",
    "from pathlib import Path\n",
    "\n",
    "directory = Path.cwd().parent / \"Files\" / \"time_data\"\n",
    "df = pd.read_csv(directory / 'walmart_stock.csv')"
   ],
   "metadata": {
    "collapsed": false,
    "pycharm": {
     "name": "#%%\n"
    }
   }
  },
  {
   "cell_type": "code",
   "execution_count": 2,
   "outputs": [
    {
     "name": "stdout",
     "output_type": "stream",
     "text": [
      "<class 'pandas.core.frame.DataFrame'>\n",
      "RangeIndex: 1258 entries, 0 to 1257\n",
      "Data columns (total 7 columns):\n",
      " #   Column     Non-Null Count  Dtype  \n",
      "---  ------     --------------  -----  \n",
      " 0   Date       1258 non-null   object \n",
      " 1   Open       1258 non-null   float64\n",
      " 2   High       1258 non-null   float64\n",
      " 3   Low        1258 non-null   float64\n",
      " 4   Close      1258 non-null   float64\n",
      " 5   Volume     1258 non-null   int64  \n",
      " 6   Adj Close  1258 non-null   float64\n",
      "dtypes: float64(5), int64(1), object(1)\n",
      "memory usage: 68.9+ KB\n"
     ]
    }
   ],
   "source": [
    "df.info()"
   ],
   "metadata": {
    "collapsed": false,
    "pycharm": {
     "name": "#%%\n"
    }
   }
  },
  {
   "cell_type": "code",
   "execution_count": 3,
   "outputs": [
    {
     "data": {
      "text/plain": "         Date       Open       High        Low      Close    Volume  Adj Close\n0  2012-01-03  59.970001  61.060001  59.869999  60.330002  12668800  52.619235\n1  2012-01-04  60.209999  60.349998  59.470001  59.709999   9593300  52.078475\n2  2012-01-05  59.349998  59.619999  58.369999  59.419998  12768200  51.825539\n3  2012-01-06  59.419998  59.450001  58.869999  59.000000   8069400  51.459220\n4  2012-01-09  59.029999  59.549999  58.919998  59.180000   6679300  51.616215",
      "text/html": "<div>\n<style scoped>\n    .dataframe tbody tr th:only-of-type {\n        vertical-align: middle;\n    }\n\n    .dataframe tbody tr th {\n        vertical-align: top;\n    }\n\n    .dataframe thead th {\n        text-align: right;\n    }\n</style>\n<table border=\"1\" class=\"dataframe\">\n  <thead>\n    <tr style=\"text-align: right;\">\n      <th></th>\n      <th>Date</th>\n      <th>Open</th>\n      <th>High</th>\n      <th>Low</th>\n      <th>Close</th>\n      <th>Volume</th>\n      <th>Adj Close</th>\n    </tr>\n  </thead>\n  <tbody>\n    <tr>\n      <th>0</th>\n      <td>2012-01-03</td>\n      <td>59.970001</td>\n      <td>61.060001</td>\n      <td>59.869999</td>\n      <td>60.330002</td>\n      <td>12668800</td>\n      <td>52.619235</td>\n    </tr>\n    <tr>\n      <th>1</th>\n      <td>2012-01-04</td>\n      <td>60.209999</td>\n      <td>60.349998</td>\n      <td>59.470001</td>\n      <td>59.709999</td>\n      <td>9593300</td>\n      <td>52.078475</td>\n    </tr>\n    <tr>\n      <th>2</th>\n      <td>2012-01-05</td>\n      <td>59.349998</td>\n      <td>59.619999</td>\n      <td>58.369999</td>\n      <td>59.419998</td>\n      <td>12768200</td>\n      <td>51.825539</td>\n    </tr>\n    <tr>\n      <th>3</th>\n      <td>2012-01-06</td>\n      <td>59.419998</td>\n      <td>59.450001</td>\n      <td>58.869999</td>\n      <td>59.000000</td>\n      <td>8069400</td>\n      <td>51.459220</td>\n    </tr>\n    <tr>\n      <th>4</th>\n      <td>2012-01-09</td>\n      <td>59.029999</td>\n      <td>59.549999</td>\n      <td>58.919998</td>\n      <td>59.180000</td>\n      <td>6679300</td>\n      <td>51.616215</td>\n    </tr>\n  </tbody>\n</table>\n</div>"
     },
     "execution_count": 3,
     "metadata": {},
     "output_type": "execute_result"
    }
   ],
   "source": [
    "df.head()"
   ],
   "metadata": {
    "collapsed": false,
    "pycharm": {
     "name": "#%%\n"
    }
   }
  },
  {
   "cell_type": "code",
   "execution_count": 4,
   "outputs": [],
   "source": [
    "df['Date'] = pd.to_datetime(df['Date'], format=\"%Y/%m/%d\")"
   ],
   "metadata": {
    "collapsed": false,
    "pycharm": {
     "name": "#%%\n"
    }
   }
  },
  {
   "cell_type": "code",
   "execution_count": 5,
   "outputs": [
    {
     "name": "stdout",
     "output_type": "stream",
     "text": [
      "<class 'pandas.core.frame.DataFrame'>\n",
      "RangeIndex: 1258 entries, 0 to 1257\n",
      "Data columns (total 7 columns):\n",
      " #   Column     Non-Null Count  Dtype         \n",
      "---  ------     --------------  -----         \n",
      " 0   Date       1258 non-null   datetime64[ns]\n",
      " 1   Open       1258 non-null   float64       \n",
      " 2   High       1258 non-null   float64       \n",
      " 3   Low        1258 non-null   float64       \n",
      " 4   Close      1258 non-null   float64       \n",
      " 5   Volume     1258 non-null   int64         \n",
      " 6   Adj Close  1258 non-null   float64       \n",
      "dtypes: datetime64[ns](1), float64(5), int64(1)\n",
      "memory usage: 68.9 KB\n"
     ]
    }
   ],
   "source": [
    "df.info()"
   ],
   "metadata": {
    "collapsed": false,
    "pycharm": {
     "name": "#%%\n"
    }
   }
  },
  {
   "cell_type": "code",
   "execution_count": 6,
   "outputs": [],
   "source": [
    "df.set_index('Date', inplace=True)"
   ],
   "metadata": {
    "collapsed": false,
    "pycharm": {
     "name": "#%%\n"
    }
   }
  },
  {
   "cell_type": "code",
   "execution_count": 7,
   "outputs": [
    {
     "data": {
      "text/plain": "                 Open       High        Low      Close    Volume  Adj Close\nDate                                                                       \n2012-01-03  59.970001  61.060001  59.869999  60.330002  12668800  52.619235\n2012-01-04  60.209999  60.349998  59.470001  59.709999   9593300  52.078475\n2012-01-05  59.349998  59.619999  58.369999  59.419998  12768200  51.825539\n2012-01-06  59.419998  59.450001  58.869999  59.000000   8069400  51.459220\n2012-01-09  59.029999  59.549999  58.919998  59.180000   6679300  51.616215",
      "text/html": "<div>\n<style scoped>\n    .dataframe tbody tr th:only-of-type {\n        vertical-align: middle;\n    }\n\n    .dataframe tbody tr th {\n        vertical-align: top;\n    }\n\n    .dataframe thead th {\n        text-align: right;\n    }\n</style>\n<table border=\"1\" class=\"dataframe\">\n  <thead>\n    <tr style=\"text-align: right;\">\n      <th></th>\n      <th>Open</th>\n      <th>High</th>\n      <th>Low</th>\n      <th>Close</th>\n      <th>Volume</th>\n      <th>Adj Close</th>\n    </tr>\n    <tr>\n      <th>Date</th>\n      <th></th>\n      <th></th>\n      <th></th>\n      <th></th>\n      <th></th>\n      <th></th>\n    </tr>\n  </thead>\n  <tbody>\n    <tr>\n      <th>2012-01-03</th>\n      <td>59.970001</td>\n      <td>61.060001</td>\n      <td>59.869999</td>\n      <td>60.330002</td>\n      <td>12668800</td>\n      <td>52.619235</td>\n    </tr>\n    <tr>\n      <th>2012-01-04</th>\n      <td>60.209999</td>\n      <td>60.349998</td>\n      <td>59.470001</td>\n      <td>59.709999</td>\n      <td>9593300</td>\n      <td>52.078475</td>\n    </tr>\n    <tr>\n      <th>2012-01-05</th>\n      <td>59.349998</td>\n      <td>59.619999</td>\n      <td>58.369999</td>\n      <td>59.419998</td>\n      <td>12768200</td>\n      <td>51.825539</td>\n    </tr>\n    <tr>\n      <th>2012-01-06</th>\n      <td>59.419998</td>\n      <td>59.450001</td>\n      <td>58.869999</td>\n      <td>59.000000</td>\n      <td>8069400</td>\n      <td>51.459220</td>\n    </tr>\n    <tr>\n      <th>2012-01-09</th>\n      <td>59.029999</td>\n      <td>59.549999</td>\n      <td>58.919998</td>\n      <td>59.180000</td>\n      <td>6679300</td>\n      <td>51.616215</td>\n    </tr>\n  </tbody>\n</table>\n</div>"
     },
     "execution_count": 7,
     "metadata": {},
     "output_type": "execute_result"
    }
   ],
   "source": [
    "df.head()"
   ],
   "metadata": {
    "collapsed": false,
    "pycharm": {
     "name": "#%%\n"
    }
   }
  },
  {
   "cell_type": "markdown",
   "source": [
    "**Other Method**"
   ],
   "metadata": {
    "collapsed": false,
    "pycharm": {
     "name": "#%% md\n"
    }
   }
  },
  {
   "cell_type": "code",
   "execution_count": 8,
   "outputs": [],
   "source": [
    "df1 = pd.read_csv(directory / 'walmart_stock.csv', index_col='Date', parse_dates=True)"
   ],
   "metadata": {
    "collapsed": false,
    "pycharm": {
     "name": "#%%\n"
    }
   }
  },
  {
   "cell_type": "code",
   "execution_count": 9,
   "outputs": [
    {
     "data": {
      "text/plain": "DatetimeIndex(['2012-01-03', '2012-01-04', '2012-01-05', '2012-01-06',\n               '2012-01-09', '2012-01-10', '2012-01-11', '2012-01-12',\n               '2012-01-13', '2012-01-17',\n               ...\n               '2016-12-16', '2016-12-19', '2016-12-20', '2016-12-21',\n               '2016-12-22', '2016-12-23', '2016-12-27', '2016-12-28',\n               '2016-12-29', '2016-12-30'],\n              dtype='datetime64[ns]', name='Date', length=1258, freq=None)"
     },
     "execution_count": 9,
     "metadata": {},
     "output_type": "execute_result"
    }
   ],
   "source": [
    "df1.index"
   ],
   "metadata": {
    "collapsed": false,
    "pycharm": {
     "name": "#%%\n"
    }
   }
  },
  {
   "cell_type": "code",
   "execution_count": 10,
   "outputs": [
    {
     "data": {
      "text/plain": "                 Open       High        Low      Close    Volume  Adj Close\nDate                                                                       \n2012-01-03  59.970001  61.060001  59.869999  60.330002  12668800  52.619235\n2012-01-04  60.209999  60.349998  59.470001  59.709999   9593300  52.078475\n2012-01-05  59.349998  59.619999  58.369999  59.419998  12768200  51.825539\n2012-01-06  59.419998  59.450001  58.869999  59.000000   8069400  51.459220\n2012-01-09  59.029999  59.549999  58.919998  59.180000   6679300  51.616215",
      "text/html": "<div>\n<style scoped>\n    .dataframe tbody tr th:only-of-type {\n        vertical-align: middle;\n    }\n\n    .dataframe tbody tr th {\n        vertical-align: top;\n    }\n\n    .dataframe thead th {\n        text-align: right;\n    }\n</style>\n<table border=\"1\" class=\"dataframe\">\n  <thead>\n    <tr style=\"text-align: right;\">\n      <th></th>\n      <th>Open</th>\n      <th>High</th>\n      <th>Low</th>\n      <th>Close</th>\n      <th>Volume</th>\n      <th>Adj Close</th>\n    </tr>\n    <tr>\n      <th>Date</th>\n      <th></th>\n      <th></th>\n      <th></th>\n      <th></th>\n      <th></th>\n      <th></th>\n    </tr>\n  </thead>\n  <tbody>\n    <tr>\n      <th>2012-01-03</th>\n      <td>59.970001</td>\n      <td>61.060001</td>\n      <td>59.869999</td>\n      <td>60.330002</td>\n      <td>12668800</td>\n      <td>52.619235</td>\n    </tr>\n    <tr>\n      <th>2012-01-04</th>\n      <td>60.209999</td>\n      <td>60.349998</td>\n      <td>59.470001</td>\n      <td>59.709999</td>\n      <td>9593300</td>\n      <td>52.078475</td>\n    </tr>\n    <tr>\n      <th>2012-01-05</th>\n      <td>59.349998</td>\n      <td>59.619999</td>\n      <td>58.369999</td>\n      <td>59.419998</td>\n      <td>12768200</td>\n      <td>51.825539</td>\n    </tr>\n    <tr>\n      <th>2012-01-06</th>\n      <td>59.419998</td>\n      <td>59.450001</td>\n      <td>58.869999</td>\n      <td>59.000000</td>\n      <td>8069400</td>\n      <td>51.459220</td>\n    </tr>\n    <tr>\n      <th>2012-01-09</th>\n      <td>59.029999</td>\n      <td>59.549999</td>\n      <td>58.919998</td>\n      <td>59.180000</td>\n      <td>6679300</td>\n      <td>51.616215</td>\n    </tr>\n  </tbody>\n</table>\n</div>"
     },
     "execution_count": 10,
     "metadata": {},
     "output_type": "execute_result"
    }
   ],
   "source": [
    "df1.head()"
   ],
   "metadata": {
    "collapsed": false,
    "pycharm": {
     "name": "#%%\n"
    }
   }
  },
  {
   "cell_type": "markdown",
   "source": [
    "## Resample\n",
    "\n",
    "**All Possibility**\n",
    "\n",
    "<table border=\"1\" class=\"docutils\">\n",
    "<colgroup>\n",
    "<col width=\"13%\" />\n",
    "<col width=\"87%\" />\n",
    "</colgroup>\n",
    "<thead valign=\"bottom\">\n",
    "<tr class=\"row-odd\"><th class=\"head\">Alias</th>\n",
    "<th class=\"head\">Description</th>\n",
    "</tr>\n",
    "</thead>\n",
    "<tbody valign=\"top\">\n",
    "<tr class=\"row-even\"><td>B</td>\n",
    "<td>business day frequency</td>\n",
    "</tr>\n",
    "<tr class=\"row-odd\"><td>C</td>\n",
    "<td>custom business day frequency (experimental)</td>\n",
    "</tr>\n",
    "<tr class=\"row-even\"><td>D</td>\n",
    "<td>calendar day frequency</td>\n",
    "</tr>\n",
    "<tr class=\"row-odd\"><td>W</td>\n",
    "<td>weekly frequency</td>\n",
    "</tr>\n",
    "<tr class=\"row-even\"><td>M</td>\n",
    "<td>month end frequency</td>\n",
    "</tr>\n",
    "<tr class=\"row-odd\"><td>SM</td>\n",
    "<td>semi-month end frequency (15th and end of month)</td>\n",
    "</tr>\n",
    "<tr class=\"row-even\"><td>BM</td>\n",
    "<td>business month end frequency</td>\n",
    "</tr>\n",
    "<tr class=\"row-odd\"><td>CBM</td>\n",
    "<td>custom business month end frequency</td>\n",
    "</tr>\n",
    "<tr class=\"row-even\"><td>MS</td>\n",
    "<td>month start frequency</td>\n",
    "</tr>\n",
    "<tr class=\"row-odd\"><td>SMS</td>\n",
    "<td>semi-month start frequency (1st and 15th)</td>\n",
    "</tr>\n",
    "<tr class=\"row-even\"><td>BMS</td>\n",
    "<td>business month start frequency</td>\n",
    "</tr>\n",
    "<tr class=\"row-odd\"><td>CBMS</td>\n",
    "<td>custom business month start frequency</td>\n",
    "</tr>\n",
    "<tr class=\"row-even\"><td>Q</td>\n",
    "<td>quarter end frequency</td>\n",
    "</tr>\n",
    "<tr class=\"row-odd\"><td>BQ</td>\n",
    "<td>business quarter endfrequency</td>\n",
    "</tr>\n",
    "<tr class=\"row-even\"><td>QS</td>\n",
    "<td>quarter start frequency</td>\n",
    "</tr>\n",
    "<tr class=\"row-odd\"><td>BQS</td>\n",
    "<td>business quarter start frequency</td>\n",
    "</tr>\n",
    "<tr class=\"row-even\"><td>A</td>\n",
    "<td>year end frequency</td>\n",
    "</tr>\n",
    "<tr class=\"row-odd\"><td>BA</td>\n",
    "<td>business year end frequency</td>\n",
    "</tr>\n",
    "<tr class=\"row-even\"><td>AS</td>\n",
    "<td>year start frequency</td>\n",
    "</tr>\n",
    "<tr class=\"row-odd\"><td>BAS</td>\n",
    "<td>business year start frequency</td>\n",
    "</tr>\n",
    "<tr class=\"row-even\"><td>BH</td>\n",
    "<td>business hour frequency</td>\n",
    "</tr>\n",
    "<tr class=\"row-odd\"><td>H</td>\n",
    "<td>hourly frequency</td>\n",
    "</tr>\n",
    "<tr class=\"row-even\"><td>T, min</td>\n",
    "<td>minutely frequency</td>\n",
    "</tr>\n",
    "<tr class=\"row-odd\"><td>S</td>\n",
    "<td>secondly frequency</td>\n",
    "</tr>\n",
    "<tr class=\"row-even\"><td>L, ms</td>\n",
    "<td>milliseconds</td>\n",
    "</tr>\n",
    "<tr class=\"row-odd\"><td>U, us</td>\n",
    "<td>microseconds</td>\n",
    "</tr>\n",
    "<tr class=\"row-even\"><td>N</td>\n",
    "<td>nanoseconds</td>\n",
    "</tr>\n",
    "</tbody>\n",
    "</table>"
   ],
   "metadata": {
    "collapsed": false,
    "pycharm": {
     "name": "#%% md\n"
    }
   }
  },
  {
   "cell_type": "markdown",
   "source": [
    "**Sampling by Year**"
   ],
   "metadata": {
    "collapsed": false,
    "pycharm": {
     "name": "#%% md\n"
    }
   }
  },
  {
   "cell_type": "code",
   "execution_count": 11,
   "outputs": [
    {
     "data": {
      "text/plain": "                 Open       High        Low      Close        Volume  \\\nDate                                                                   \n2012-12-31  67.158680  67.602120  66.786520  67.215120  9.239015e+06   \n2013-12-31  75.264048  75.729405  74.843055  75.320516  6.951496e+06   \n2014-12-31  77.274524  77.740040  76.864405  77.327381  6.515612e+06   \n2015-12-31  72.569405  73.064167  72.034802  72.491111  9.040769e+06   \n2016-12-31  69.481349  70.019643  69.023492  69.547063  9.371645e+06   \n\n            Adj Close  \nDate                   \n2012-12-31  59.389349  \n2013-12-31  68.147179  \n2014-12-31  71.709712  \n2015-12-31  68.831426  \n2016-12-31  68.054229  ",
      "text/html": "<div>\n<style scoped>\n    .dataframe tbody tr th:only-of-type {\n        vertical-align: middle;\n    }\n\n    .dataframe tbody tr th {\n        vertical-align: top;\n    }\n\n    .dataframe thead th {\n        text-align: right;\n    }\n</style>\n<table border=\"1\" class=\"dataframe\">\n  <thead>\n    <tr style=\"text-align: right;\">\n      <th></th>\n      <th>Open</th>\n      <th>High</th>\n      <th>Low</th>\n      <th>Close</th>\n      <th>Volume</th>\n      <th>Adj Close</th>\n    </tr>\n    <tr>\n      <th>Date</th>\n      <th></th>\n      <th></th>\n      <th></th>\n      <th></th>\n      <th></th>\n      <th></th>\n    </tr>\n  </thead>\n  <tbody>\n    <tr>\n      <th>2012-12-31</th>\n      <td>67.158680</td>\n      <td>67.602120</td>\n      <td>66.786520</td>\n      <td>67.215120</td>\n      <td>9.239015e+06</td>\n      <td>59.389349</td>\n    </tr>\n    <tr>\n      <th>2013-12-31</th>\n      <td>75.264048</td>\n      <td>75.729405</td>\n      <td>74.843055</td>\n      <td>75.320516</td>\n      <td>6.951496e+06</td>\n      <td>68.147179</td>\n    </tr>\n    <tr>\n      <th>2014-12-31</th>\n      <td>77.274524</td>\n      <td>77.740040</td>\n      <td>76.864405</td>\n      <td>77.327381</td>\n      <td>6.515612e+06</td>\n      <td>71.709712</td>\n    </tr>\n    <tr>\n      <th>2015-12-31</th>\n      <td>72.569405</td>\n      <td>73.064167</td>\n      <td>72.034802</td>\n      <td>72.491111</td>\n      <td>9.040769e+06</td>\n      <td>68.831426</td>\n    </tr>\n    <tr>\n      <th>2016-12-31</th>\n      <td>69.481349</td>\n      <td>70.019643</td>\n      <td>69.023492</td>\n      <td>69.547063</td>\n      <td>9.371645e+06</td>\n      <td>68.054229</td>\n    </tr>\n  </tbody>\n</table>\n</div>"
     },
     "execution_count": 11,
     "metadata": {},
     "output_type": "execute_result"
    }
   ],
   "source": [
    "df.resample(rule='A').mean()"
   ],
   "metadata": {
    "collapsed": false,
    "pycharm": {
     "name": "#%%\n"
    }
   }
  },
  {
   "cell_type": "markdown",
   "source": [
    "**Sampling by Quater**"
   ],
   "metadata": {
    "collapsed": false,
    "pycharm": {
     "name": "#%% md\n"
    }
   }
  },
  {
   "cell_type": "code",
   "execution_count": 12,
   "outputs": [
    {
     "data": {
      "text/plain": "                 Open       High        Low      Close        Volume  \\\nDate                                                                   \n2012-03-31  60.462903  60.807258  60.160484  60.519516  8.850221e+06   \n2012-06-30  62.888889  63.400159  62.592222  63.057143  1.155795e+07   \n2012-09-30  73.081587  73.549682  72.717619  73.174921  7.871587e+06   \n2012-12-31  72.174678  72.623226  71.647741  72.079839  8.660958e+06   \n2013-03-31  70.898834  71.393000  70.552666  71.026000  8.482003e+06   \n2013-06-30  76.873906  77.417813  76.413281  76.885781  7.656086e+06   \n2013-09-30  75.637969  76.030469  75.213594  75.629063  5.796625e+06   \n2013-12-31  77.372656  77.805313  76.924531  77.472813  5.966927e+06   \n2014-03-31  75.339344  75.802787  74.863278  75.337213  7.050402e+06   \n2014-06-30  77.036508  77.391111  76.689524  77.066508  6.048765e+06   \n2014-09-30  75.674843  76.062501  75.375938  75.748593  5.550031e+06   \n2014-12-31  80.952969  81.607500  80.432344  81.059844  7.431025e+06   \n2015-03-31  85.096229  85.699017  84.491803  85.107213  7.209713e+06   \n2015-06-30  76.678730  77.066191  76.191111  76.492540  7.481765e+06   \n2015-09-30  68.884375  69.366094  68.328594  68.825313  8.883412e+06   \n2015-12-31  60.269688  60.780156  59.776563  60.193281  1.247800e+07   \n2016-03-31  65.564754  66.346065  65.015574  65.776557  1.198041e+07   \n2016-06-30  69.350000  69.857656  68.918906  69.438437  8.751062e+06   \n2016-09-30  72.808594  73.230938  72.371719  72.782812  8.236991e+06   \n2016-12-31  70.026985  70.478889  69.609048  70.021111  8.628798e+06   \n\n            Adj Close  \nDate                   \n2012-03-31  52.881839  \n2012-06-30  55.594392  \n2012-09-30  64.891949  \n2012-12-31  64.161672  \n2013-03-31  63.581880  \n2013-06-30  69.393600  \n2013-09-30  68.676662  \n2013-12-31  70.651242  \n2014-03-31  69.106983  \n2014-06-30  71.284646  \n2014-09-30  70.520795  \n2014-12-31  75.797780  \n2015-03-31  79.994746  \n2015-06-30  72.501821  \n2015-09-30  65.666534  \n2015-12-31  57.743235  \n2016-03-31  63.580834  \n2016-06-30  67.762903  \n2016-09-30  71.530300  \n2016-12-31  69.150314  ",
      "text/html": "<div>\n<style scoped>\n    .dataframe tbody tr th:only-of-type {\n        vertical-align: middle;\n    }\n\n    .dataframe tbody tr th {\n        vertical-align: top;\n    }\n\n    .dataframe thead th {\n        text-align: right;\n    }\n</style>\n<table border=\"1\" class=\"dataframe\">\n  <thead>\n    <tr style=\"text-align: right;\">\n      <th></th>\n      <th>Open</th>\n      <th>High</th>\n      <th>Low</th>\n      <th>Close</th>\n      <th>Volume</th>\n      <th>Adj Close</th>\n    </tr>\n    <tr>\n      <th>Date</th>\n      <th></th>\n      <th></th>\n      <th></th>\n      <th></th>\n      <th></th>\n      <th></th>\n    </tr>\n  </thead>\n  <tbody>\n    <tr>\n      <th>2012-03-31</th>\n      <td>60.462903</td>\n      <td>60.807258</td>\n      <td>60.160484</td>\n      <td>60.519516</td>\n      <td>8.850221e+06</td>\n      <td>52.881839</td>\n    </tr>\n    <tr>\n      <th>2012-06-30</th>\n      <td>62.888889</td>\n      <td>63.400159</td>\n      <td>62.592222</td>\n      <td>63.057143</td>\n      <td>1.155795e+07</td>\n      <td>55.594392</td>\n    </tr>\n    <tr>\n      <th>2012-09-30</th>\n      <td>73.081587</td>\n      <td>73.549682</td>\n      <td>72.717619</td>\n      <td>73.174921</td>\n      <td>7.871587e+06</td>\n      <td>64.891949</td>\n    </tr>\n    <tr>\n      <th>2012-12-31</th>\n      <td>72.174678</td>\n      <td>72.623226</td>\n      <td>71.647741</td>\n      <td>72.079839</td>\n      <td>8.660958e+06</td>\n      <td>64.161672</td>\n    </tr>\n    <tr>\n      <th>2013-03-31</th>\n      <td>70.898834</td>\n      <td>71.393000</td>\n      <td>70.552666</td>\n      <td>71.026000</td>\n      <td>8.482003e+06</td>\n      <td>63.581880</td>\n    </tr>\n    <tr>\n      <th>2013-06-30</th>\n      <td>76.873906</td>\n      <td>77.417813</td>\n      <td>76.413281</td>\n      <td>76.885781</td>\n      <td>7.656086e+06</td>\n      <td>69.393600</td>\n    </tr>\n    <tr>\n      <th>2013-09-30</th>\n      <td>75.637969</td>\n      <td>76.030469</td>\n      <td>75.213594</td>\n      <td>75.629063</td>\n      <td>5.796625e+06</td>\n      <td>68.676662</td>\n    </tr>\n    <tr>\n      <th>2013-12-31</th>\n      <td>77.372656</td>\n      <td>77.805313</td>\n      <td>76.924531</td>\n      <td>77.472813</td>\n      <td>5.966927e+06</td>\n      <td>70.651242</td>\n    </tr>\n    <tr>\n      <th>2014-03-31</th>\n      <td>75.339344</td>\n      <td>75.802787</td>\n      <td>74.863278</td>\n      <td>75.337213</td>\n      <td>7.050402e+06</td>\n      <td>69.106983</td>\n    </tr>\n    <tr>\n      <th>2014-06-30</th>\n      <td>77.036508</td>\n      <td>77.391111</td>\n      <td>76.689524</td>\n      <td>77.066508</td>\n      <td>6.048765e+06</td>\n      <td>71.284646</td>\n    </tr>\n    <tr>\n      <th>2014-09-30</th>\n      <td>75.674843</td>\n      <td>76.062501</td>\n      <td>75.375938</td>\n      <td>75.748593</td>\n      <td>5.550031e+06</td>\n      <td>70.520795</td>\n    </tr>\n    <tr>\n      <th>2014-12-31</th>\n      <td>80.952969</td>\n      <td>81.607500</td>\n      <td>80.432344</td>\n      <td>81.059844</td>\n      <td>7.431025e+06</td>\n      <td>75.797780</td>\n    </tr>\n    <tr>\n      <th>2015-03-31</th>\n      <td>85.096229</td>\n      <td>85.699017</td>\n      <td>84.491803</td>\n      <td>85.107213</td>\n      <td>7.209713e+06</td>\n      <td>79.994746</td>\n    </tr>\n    <tr>\n      <th>2015-06-30</th>\n      <td>76.678730</td>\n      <td>77.066191</td>\n      <td>76.191111</td>\n      <td>76.492540</td>\n      <td>7.481765e+06</td>\n      <td>72.501821</td>\n    </tr>\n    <tr>\n      <th>2015-09-30</th>\n      <td>68.884375</td>\n      <td>69.366094</td>\n      <td>68.328594</td>\n      <td>68.825313</td>\n      <td>8.883412e+06</td>\n      <td>65.666534</td>\n    </tr>\n    <tr>\n      <th>2015-12-31</th>\n      <td>60.269688</td>\n      <td>60.780156</td>\n      <td>59.776563</td>\n      <td>60.193281</td>\n      <td>1.247800e+07</td>\n      <td>57.743235</td>\n    </tr>\n    <tr>\n      <th>2016-03-31</th>\n      <td>65.564754</td>\n      <td>66.346065</td>\n      <td>65.015574</td>\n      <td>65.776557</td>\n      <td>1.198041e+07</td>\n      <td>63.580834</td>\n    </tr>\n    <tr>\n      <th>2016-06-30</th>\n      <td>69.350000</td>\n      <td>69.857656</td>\n      <td>68.918906</td>\n      <td>69.438437</td>\n      <td>8.751062e+06</td>\n      <td>67.762903</td>\n    </tr>\n    <tr>\n      <th>2016-09-30</th>\n      <td>72.808594</td>\n      <td>73.230938</td>\n      <td>72.371719</td>\n      <td>72.782812</td>\n      <td>8.236991e+06</td>\n      <td>71.530300</td>\n    </tr>\n    <tr>\n      <th>2016-12-31</th>\n      <td>70.026985</td>\n      <td>70.478889</td>\n      <td>69.609048</td>\n      <td>70.021111</td>\n      <td>8.628798e+06</td>\n      <td>69.150314</td>\n    </tr>\n  </tbody>\n</table>\n</div>"
     },
     "execution_count": 12,
     "metadata": {},
     "output_type": "execute_result"
    }
   ],
   "source": [
    "df.resample(rule='Q').mean()"
   ],
   "metadata": {
    "collapsed": false,
    "pycharm": {
     "name": "#%%\n"
    }
   }
  },
  {
   "cell_type": "markdown",
   "source": [
    "**Sampling by Year (max value)**"
   ],
   "metadata": {
    "collapsed": false,
    "pycharm": {
     "name": "#%% md\n"
    }
   }
  },
  {
   "cell_type": "code",
   "execution_count": 13,
   "outputs": [
    {
     "data": {
      "text/plain": "                 Open       High        Low      Close    Volume  Adj Close\nDate                                                                       \n2012-12-31  77.599998  77.599998  76.690002  77.150002  38007300  68.568371\n2013-12-31  81.209999  81.370003  80.820000  81.209999  25683700  73.929868\n2014-12-31  87.080002  88.089996  86.480003  87.540001  22812400  81.707680\n2015-12-31  90.800003  90.970001  89.250000  90.470001  80898100  84.914216\n2016-12-31  74.500000  75.190002  73.629997  74.300003  35076700  73.233524",
      "text/html": "<div>\n<style scoped>\n    .dataframe tbody tr th:only-of-type {\n        vertical-align: middle;\n    }\n\n    .dataframe tbody tr th {\n        vertical-align: top;\n    }\n\n    .dataframe thead th {\n        text-align: right;\n    }\n</style>\n<table border=\"1\" class=\"dataframe\">\n  <thead>\n    <tr style=\"text-align: right;\">\n      <th></th>\n      <th>Open</th>\n      <th>High</th>\n      <th>Low</th>\n      <th>Close</th>\n      <th>Volume</th>\n      <th>Adj Close</th>\n    </tr>\n    <tr>\n      <th>Date</th>\n      <th></th>\n      <th></th>\n      <th></th>\n      <th></th>\n      <th></th>\n      <th></th>\n    </tr>\n  </thead>\n  <tbody>\n    <tr>\n      <th>2012-12-31</th>\n      <td>77.599998</td>\n      <td>77.599998</td>\n      <td>76.690002</td>\n      <td>77.150002</td>\n      <td>38007300</td>\n      <td>68.568371</td>\n    </tr>\n    <tr>\n      <th>2013-12-31</th>\n      <td>81.209999</td>\n      <td>81.370003</td>\n      <td>80.820000</td>\n      <td>81.209999</td>\n      <td>25683700</td>\n      <td>73.929868</td>\n    </tr>\n    <tr>\n      <th>2014-12-31</th>\n      <td>87.080002</td>\n      <td>88.089996</td>\n      <td>86.480003</td>\n      <td>87.540001</td>\n      <td>22812400</td>\n      <td>81.707680</td>\n    </tr>\n    <tr>\n      <th>2015-12-31</th>\n      <td>90.800003</td>\n      <td>90.970001</td>\n      <td>89.250000</td>\n      <td>90.470001</td>\n      <td>80898100</td>\n      <td>84.914216</td>\n    </tr>\n    <tr>\n      <th>2016-12-31</th>\n      <td>74.500000</td>\n      <td>75.190002</td>\n      <td>73.629997</td>\n      <td>74.300003</td>\n      <td>35076700</td>\n      <td>73.233524</td>\n    </tr>\n  </tbody>\n</table>\n</div>"
     },
     "execution_count": 13,
     "metadata": {},
     "output_type": "execute_result"
    }
   ],
   "source": [
    "df.resample(rule='A').max()"
   ],
   "metadata": {
    "collapsed": false,
    "pycharm": {
     "name": "#%%\n"
    }
   }
  },
  {
   "cell_type": "markdown",
   "source": [
    "**Sampling by Year (First day)**"
   ],
   "metadata": {
    "collapsed": false,
    "pycharm": {
     "name": "#%% md\n"
    }
   }
  },
  {
   "cell_type": "code",
   "execution_count": 14,
   "outputs": [
    {
     "data": {
      "text/plain": "                 Open       High        Low      Close    Volume  Adj Close\nDate                                                                       \n2012-12-31  59.970001  61.060001  59.869999  60.330002  12668800  52.619235\n2013-12-31  68.930000  69.239998  68.449997  69.239998  10390800  61.879708\n2014-12-31  78.720001  79.470001  78.500000  78.910004   6878000  72.254228\n2015-12-31  86.269997  86.720001  85.550003  85.900002   4501800  80.624861\n2016-12-31  60.500000  61.490002  60.360001  61.459999  11989200  59.289713",
      "text/html": "<div>\n<style scoped>\n    .dataframe tbody tr th:only-of-type {\n        vertical-align: middle;\n    }\n\n    .dataframe tbody tr th {\n        vertical-align: top;\n    }\n\n    .dataframe thead th {\n        text-align: right;\n    }\n</style>\n<table border=\"1\" class=\"dataframe\">\n  <thead>\n    <tr style=\"text-align: right;\">\n      <th></th>\n      <th>Open</th>\n      <th>High</th>\n      <th>Low</th>\n      <th>Close</th>\n      <th>Volume</th>\n      <th>Adj Close</th>\n    </tr>\n    <tr>\n      <th>Date</th>\n      <th></th>\n      <th></th>\n      <th></th>\n      <th></th>\n      <th></th>\n      <th></th>\n    </tr>\n  </thead>\n  <tbody>\n    <tr>\n      <th>2012-12-31</th>\n      <td>59.970001</td>\n      <td>61.060001</td>\n      <td>59.869999</td>\n      <td>60.330002</td>\n      <td>12668800</td>\n      <td>52.619235</td>\n    </tr>\n    <tr>\n      <th>2013-12-31</th>\n      <td>68.930000</td>\n      <td>69.239998</td>\n      <td>68.449997</td>\n      <td>69.239998</td>\n      <td>10390800</td>\n      <td>61.879708</td>\n    </tr>\n    <tr>\n      <th>2014-12-31</th>\n      <td>78.720001</td>\n      <td>79.470001</td>\n      <td>78.500000</td>\n      <td>78.910004</td>\n      <td>6878000</td>\n      <td>72.254228</td>\n    </tr>\n    <tr>\n      <th>2015-12-31</th>\n      <td>86.269997</td>\n      <td>86.720001</td>\n      <td>85.550003</td>\n      <td>85.900002</td>\n      <td>4501800</td>\n      <td>80.624861</td>\n    </tr>\n    <tr>\n      <th>2016-12-31</th>\n      <td>60.500000</td>\n      <td>61.490002</td>\n      <td>60.360001</td>\n      <td>61.459999</td>\n      <td>11989200</td>\n      <td>59.289713</td>\n    </tr>\n  </tbody>\n</table>\n</div>"
     },
     "execution_count": 14,
     "metadata": {},
     "output_type": "execute_result"
    }
   ],
   "source": [
    "df.resample(rule='A').apply(lambda first : first[0])"
   ],
   "metadata": {
    "collapsed": false,
    "pycharm": {
     "name": "#%%\n"
    }
   }
  },
  {
   "cell_type": "code",
   "execution_count": 15,
   "outputs": [
    {
     "data": {
      "text/plain": "<AxesSubplot:xlabel='Date'>"
     },
     "execution_count": 15,
     "metadata": {},
     "output_type": "execute_result"
    },
    {
     "data": {
      "text/plain": "<Figure size 1440x360 with 1 Axes>",
      "image/png": "[encoded data removed]"
     },
     "metadata": {
      "needs_background": "light"
     },
     "output_type": "display_data"
    }
   ],
   "source": [
    "df['Close'].resample('M').mean().plot(kind='bar', figsize=(20,5))"
   ],
   "metadata": {
    "collapsed": false,
    "pycharm": {
     "name": "#%%\n"
    }
   }
  }
 ],
 "metadata": {
  "kernelspec": {
   "display_name": "Python 3",
   "language": "python",
   "name": "python3"
  },
  "language_info": {
   "codemirror_mode": {
    "name": "ipython",
    "version": 2
   },
   "file_extension": ".py",
   "mimetype": "text/x-python",
   "name": "python",
   "nbconvert_exporter": "python",
   "pygments_lexer": "ipython2",
   "version": "2.7.6"
  }
 },
 "nbformat": 4,
 "nbformat_minor": 0
}